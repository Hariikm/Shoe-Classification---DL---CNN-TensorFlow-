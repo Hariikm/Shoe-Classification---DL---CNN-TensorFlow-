{
  "nbformat": 4,
  "nbformat_minor": 0,
  "metadata": {
    "colab": {
      "provenance": [],
      "gpuType": "T4"
    },
    "kernelspec": {
      "name": "python3",
      "display_name": "Python 3"
    },
    "language_info": {
      "name": "python"
    },
    "accelerator": "GPU"
  },
  "cells": [
    {
      "cell_type": "code",
      "execution_count": 4,
      "metadata": {
        "id": "yqrLkqQDvVtY"
      },
      "outputs": [],
      "source": [
        "import numpy as np\n",
        "import pandas as pd\n",
        "%matplotlib inline\n",
        "import matplotlib as mpl\n",
        "import matplotlib.pyplot as plt\n",
        "import os"
      ]
    },
    {
      "cell_type": "code",
      "source": [
        "import tensorflow as tf\n",
        "from tensorflow import keras"
      ],
      "metadata": {
        "id": "OnzFUQcsqkpL"
      },
      "execution_count": 5,
      "outputs": []
    },
    {
      "cell_type": "code",
      "source": [
        "from tensorflow.keras.preprocessing.image import ImageDataGenerator\n",
        "\n",
        "# Specify the paths of the train, validation, and test directories\n",
        "train_dir = '/content/drive/MyDrive/PGDA/DL/Class/Exam/Shoe_classification/train'\n",
        "test_dir = '/content/drive/MyDrive/PGDA/DL/Class/Exam/Shoe_classification/test'"
      ],
      "metadata": {
        "id": "EZy0ii_OxbBq"
      },
      "execution_count": 6,
      "outputs": []
    },
    {
      "cell_type": "code",
      "source": [],
      "metadata": {
        "id": "Fn_l-CE3xyFJ"
      },
      "execution_count": 6,
      "outputs": []
    },
    {
      "cell_type": "code",
      "source": [
        "# List the files and directories within the train_dir directory\n",
        "files = os.listdir(train_dir)\n",
        "\n",
        "# Check if any files or directories exist within train_dir\n",
        "if len(files) > 0:\n",
        "    print(\"Data has been successfully uploaded to train_dir.\")\n",
        "else:\n",
        "    print(\"No files or directories found in train_dir.\")"
      ],
      "metadata": {
        "colab": {
          "base_uri": "https://localhost:8080/"
        },
        "id": "-Bk4BSb_yIAA",
        "outputId": "713496a9-e327-4424-d7b8-4ce9069bf961"
      },
      "execution_count": 7,
      "outputs": [
        {
          "output_type": "stream",
          "name": "stdout",
          "text": [
            "Data has been successfully uploaded to train_dir.\n"
          ]
        }
      ]
    },
    {
      "cell_type": "code",
      "source": [],
      "metadata": {
        "id": "EdmRYqXlySoJ"
      },
      "execution_count": 7,
      "outputs": []
    },
    {
      "cell_type": "code",
      "source": [
        "from tensorflow.keras.preprocessing.image import ImageDataGenerator"
      ],
      "metadata": {
        "id": "s-Hk7Qb5yUFG"
      },
      "execution_count": 8,
      "outputs": []
    },
    {
      "cell_type": "code",
      "source": [
        "# Creating Validation dataset [ Run the below code after removing the commad { # }, to create a validation dataset if you dont have it in the first place]"
      ],
      "metadata": {
        "id": "KHHzBxn0GvoE"
      },
      "execution_count": 9,
      "outputs": []
    },
    {
      "cell_type": "code",
      "source": [
        "# # Here we need to run this only once if there is no validation dataset. After running once the validation set will be created amd we dont need to run this again and again\n",
        "\n",
        "# from sklearn.model_selection import train_test_split\n",
        "# import os\n",
        "# import shutil\n",
        "\n",
        "# # Path to the original training directory\n",
        "# train_dir = '/content/drive/MyDrive/PGDA/DL/Class/Exam/Shoe_classification/train'\n",
        "\n",
        "# # Path to the directory where you want to create the validation subset\n",
        "# base_dir = '/content/drive/MyDrive/PGDA/DL/Class/Exam/Shoe_classification'\n",
        "# validation_dir = os.path.join(base_dir, 'validation')\n",
        "\n",
        "# # Create the validation directory if it doesn't exist\n",
        "# os.makedirs(validation_dir, exist_ok=True)\n",
        "\n",
        "# # List all subdirectories (class folders) in the original training directory\n",
        "# class_folders = [folder for folder in os.listdir(train_dir) if os.path.isdir(os.path.join(train_dir, folder))]\n",
        "\n",
        "# # Loop through each class folder and create a validation subset\n",
        "# for class_folder in class_folders:\n",
        "#     class_source_dir = os.path.join(train_dir, class_folder)\n",
        "#     class_dest_dir = os.path.join(validation_dir, class_folder)\n",
        "\n",
        "#     # Split the class folder into training and validation subsets\n",
        "#     train_class_folder, val_class_folder = train_test_split(os.listdir(class_source_dir), test_size=0.1, random_state=42)\n",
        "\n",
        "#     # Create the validation class folder if it doesn't exist\n",
        "#     os.makedirs(class_dest_dir, exist_ok=True)\n",
        "\n",
        "#     # Move images from the training class folder to the validation class folder\n",
        "#     for file_name in val_class_folder:\n",
        "#         src = os.path.join(class_source_dir, file_name)\n",
        "#         dst = os.path.join(class_dest_dir, file_name)\n",
        "#         shutil.move(src, dst)\n",
        "\n",
        "print(\"Validation subset created successfully.\")\n"
      ],
      "metadata": {
        "colab": {
          "base_uri": "https://localhost:8080/"
        },
        "id": "gWXVJyc-Gvf7",
        "outputId": "23540232-e724-439c-e7e2-b447aea0e33a"
      },
      "execution_count": 10,
      "outputs": [
        {
          "output_type": "stream",
          "name": "stdout",
          "text": [
            "Validation subset created successfully.\n"
          ]
        }
      ]
    },
    {
      "cell_type": "code",
      "source": [],
      "metadata": {
        "id": "LF9Rt032GvKv"
      },
      "execution_count": 10,
      "outputs": []
    },
    {
      "cell_type": "code",
      "source": [
        "validation_dir = '/content/drive/MyDrive/PGDA/DL/Class/Exam/Shoe_classification/validation'"
      ],
      "metadata": {
        "id": "dqB6JvLpINKa"
      },
      "execution_count": 11,
      "outputs": []
    },
    {
      "cell_type": "code",
      "source": [],
      "metadata": {
        "id": "uIPzozAvINCv"
      },
      "execution_count": 11,
      "outputs": []
    },
    {
      "cell_type": "code",
      "source": [
        "train_datagen = ImageDataGenerator(rescale=1./255)\n",
        "test_datagen = ImageDataGenerator(rescale=1./255)\n",
        "\n",
        "train_generator = train_datagen.flow_from_directory(\n",
        "        train_dir,\n",
        "        target_size=(150, 150),\n",
        "        batch_size=20,\n",
        "        class_mode='categorical')\n",
        "\n",
        "validation_generator = test_datagen.flow_from_directory(\n",
        "        validation_dir,\n",
        "        target_size=(150, 150),\n",
        "        batch_size=20,          ## flow_from_directory will feed images to train_generator in batches of 20.\n",
        "        class_mode='categorical')"
      ],
      "metadata": {
        "colab": {
          "base_uri": "https://localhost:8080/"
        },
        "id": "DqQSZD7wyya-",
        "outputId": "ec13cfba-f30b-438c-e6a7-0b0987f1bcaa"
      },
      "execution_count": 12,
      "outputs": [
        {
          "output_type": "stream",
          "name": "stdout",
          "text": [
            "Found 699 images belonging to 3 classes.\n",
            "Found 79 images belonging to 3 classes.\n"
          ]
        }
      ]
    },
    {
      "cell_type": "code",
      "source": [],
      "metadata": {
        "id": "TBU7gfRPzb2w"
      },
      "execution_count": 12,
      "outputs": []
    },
    {
      "cell_type": "code",
      "source": [
        "from tensorflow.keras import layers\n",
        "from tensorflow.keras import models"
      ],
      "metadata": {
        "id": "eH1JT1mjz6Mu"
      },
      "execution_count": 13,
      "outputs": []
    },
    {
      "cell_type": "code",
      "source": [
        "model = models.Sequential()\n",
        "\n",
        "model.add(layers.Conv2D(32, (3, 3), activation='relu',\n",
        "                        input_shape=(150, 150, 3)))\n",
        "model.add(layers.MaxPooling2D((2, 2)))\n",
        "\n",
        "model.add(layers.Conv2D(64, (3, 3), activation='relu'))     ## The input shape over here will be 75,75 because of Maxpooling\n",
        "model.add(layers.MaxPooling2D((2, 2)))                      ## Adding Maxpool in conv2D will continue to reduce the dimension.\n",
        "\n",
        "model.add(layers.Conv2D(128, (3, 3), activation='relu'))\n",
        "model.add(layers.MaxPooling2D((2, 2)))\n",
        "\n",
        "model.add(layers.Conv2D(128, (3, 3), activation='relu'))\n",
        "model.add(layers.MaxPooling2D((2, 2)))\n",
        "\n",
        "model.add(layers.Flatten())\n",
        "\n",
        "model.add(layers.Dense(512, activation='relu'))\n",
        "\n",
        "model.add(layers.Dense(3, activation='softmax'))"
      ],
      "metadata": {
        "id": "A0IpmladyIwV"
      },
      "execution_count": 14,
      "outputs": []
    },
    {
      "cell_type": "code",
      "source": [
        "\n"
      ],
      "metadata": {
        "id": "iT9anr-NFIHu"
      },
      "execution_count": 14,
      "outputs": []
    },
    {
      "cell_type": "code",
      "source": [
        "model.summary()"
      ],
      "metadata": {
        "colab": {
          "base_uri": "https://localhost:8080/"
        },
        "id": "BIR1F5uf0BD5",
        "outputId": "28816fe2-652e-4f27-9097-d7ae415804f7"
      },
      "execution_count": 15,
      "outputs": [
        {
          "output_type": "stream",
          "name": "stdout",
          "text": [
            "Model: \"sequential\"\n",
            "_________________________________________________________________\n",
            " Layer (type)                Output Shape              Param #   \n",
            "=================================================================\n",
            " conv2d (Conv2D)             (None, 148, 148, 32)      896       \n",
            "                                                                 \n",
            " max_pooling2d (MaxPooling2D  (None, 74, 74, 32)       0         \n",
            " )                                                               \n",
            "                                                                 \n",
            " conv2d_1 (Conv2D)           (None, 72, 72, 64)        18496     \n",
            "                                                                 \n",
            " max_pooling2d_1 (MaxPooling  (None, 36, 36, 64)       0         \n",
            " 2D)                                                             \n",
            "                                                                 \n",
            " conv2d_2 (Conv2D)           (None, 34, 34, 128)       73856     \n",
            "                                                                 \n",
            " max_pooling2d_2 (MaxPooling  (None, 17, 17, 128)      0         \n",
            " 2D)                                                             \n",
            "                                                                 \n",
            " conv2d_3 (Conv2D)           (None, 15, 15, 128)       147584    \n",
            "                                                                 \n",
            " max_pooling2d_3 (MaxPooling  (None, 7, 7, 128)        0         \n",
            " 2D)                                                             \n",
            "                                                                 \n",
            " flatten (Flatten)           (None, 6272)              0         \n",
            "                                                                 \n",
            " dense (Dense)               (None, 512)               3211776   \n",
            "                                                                 \n",
            " dense_1 (Dense)             (None, 3)                 1539      \n",
            "                                                                 \n",
            "=================================================================\n",
            "Total params: 3,454,147\n",
            "Trainable params: 3,454,147\n",
            "Non-trainable params: 0\n",
            "_________________________________________________________________\n"
          ]
        }
      ]
    },
    {
      "cell_type": "code",
      "source": [],
      "metadata": {
        "id": "ZngOPlMV0O2L"
      },
      "execution_count": 15,
      "outputs": []
    },
    {
      "cell_type": "code",
      "source": [
        "from tensorflow.keras import optimizers\n",
        "\n",
        "model.compile(optimizer='adam',\n",
        "              loss='categorical_crossentropy',\n",
        "              metrics=['accuracy'])"
      ],
      "metadata": {
        "id": "oLHLss3J0Jwa"
      },
      "execution_count": 16,
      "outputs": []
    },
    {
      "cell_type": "code",
      "source": [],
      "metadata": {
        "id": "rzgZKgcm0Q1v"
      },
      "execution_count": 16,
      "outputs": []
    },
    {
      "cell_type": "code",
      "source": [
        "history = model.fit_generator(\n",
        "      train_generator,\n",
        "      steps_per_epoch=34,   ## batch size is 20, 699 images in train, 699/20 = 34.95, ie, 34 will be steps per epoch\n",
        "      epochs=20,             ## Iterative\n",
        "      validation_data=validation_generator,\n",
        "      validation_steps=3)   ## 79 images, hence steps= 79/20= 3.95 , ie, 3"
      ],
      "metadata": {
        "colab": {
          "base_uri": "https://localhost:8080/"
        },
        "id": "dIvHEm7k0Rc2",
        "outputId": "b0434f38-dad8-4b76-ac13-ead73d651871"
      },
      "execution_count": 17,
      "outputs": [
        {
          "output_type": "stream",
          "name": "stderr",
          "text": [
            "<ipython-input-17-9352d017bd10>:1: UserWarning: `Model.fit_generator` is deprecated and will be removed in a future version. Please use `Model.fit`, which supports generators.\n",
            "  history = model.fit_generator(\n"
          ]
        },
        {
          "output_type": "stream",
          "name": "stdout",
          "text": [
            "Epoch 1/20\n",
            "34/34 [==============================] - 446s 13s/step - loss: 0.6344 - accuracy: 0.7025 - val_loss: 0.2713 - val_accuracy: 0.8833\n",
            "Epoch 2/20\n",
            "34/34 [==============================] - 2s 65ms/step - loss: 0.3004 - accuracy: 0.8822 - val_loss: 0.1765 - val_accuracy: 0.9167\n",
            "Epoch 3/20\n",
            "34/34 [==============================] - 2s 71ms/step - loss: 0.2637 - accuracy: 0.8792 - val_loss: 0.1556 - val_accuracy: 0.9500\n",
            "Epoch 4/20\n",
            "34/34 [==============================] - 3s 74ms/step - loss: 0.2228 - accuracy: 0.9131 - val_loss: 0.0878 - val_accuracy: 0.9833\n",
            "Epoch 5/20\n",
            "34/34 [==============================] - 3s 79ms/step - loss: 0.1737 - accuracy: 0.9352 - val_loss: 0.2431 - val_accuracy: 0.9333\n",
            "Epoch 6/20\n",
            "34/34 [==============================] - 2s 63ms/step - loss: 0.1416 - accuracy: 0.9470 - val_loss: 0.1621 - val_accuracy: 0.9667\n",
            "Epoch 7/20\n",
            "34/34 [==============================] - 2s 57ms/step - loss: 0.1002 - accuracy: 0.9676 - val_loss: 0.0841 - val_accuracy: 0.9833\n",
            "Epoch 8/20\n",
            "34/34 [==============================] - 3s 74ms/step - loss: 0.0695 - accuracy: 0.9750 - val_loss: 0.3636 - val_accuracy: 0.9333\n",
            "Epoch 9/20\n",
            "34/34 [==============================] - 2s 57ms/step - loss: 0.0452 - accuracy: 0.9867 - val_loss: 0.2542 - val_accuracy: 0.9833\n",
            "Epoch 10/20\n",
            "34/34 [==============================] - 2s 64ms/step - loss: 0.0353 - accuracy: 0.9867 - val_loss: 0.0410 - val_accuracy: 0.9833\n",
            "Epoch 11/20\n",
            "34/34 [==============================] - 2s 60ms/step - loss: 0.0604 - accuracy: 0.9823 - val_loss: 0.0150 - val_accuracy: 1.0000\n",
            "Epoch 12/20\n",
            "34/34 [==============================] - 3s 75ms/step - loss: 0.0290 - accuracy: 0.9956 - val_loss: 0.0183 - val_accuracy: 1.0000\n",
            "Epoch 13/20\n",
            "34/34 [==============================] - 2s 58ms/step - loss: 0.0123 - accuracy: 0.9956 - val_loss: 0.0437 - val_accuracy: 0.9833\n",
            "Epoch 14/20\n",
            "34/34 [==============================] - 2s 59ms/step - loss: 0.0086 - accuracy: 0.9985 - val_loss: 0.0775 - val_accuracy: 0.9667\n",
            "Epoch 15/20\n",
            "34/34 [==============================] - 2s 58ms/step - loss: 0.0035 - accuracy: 0.9985 - val_loss: 0.0401 - val_accuracy: 0.9833\n",
            "Epoch 16/20\n",
            "34/34 [==============================] - 2s 58ms/step - loss: 0.0119 - accuracy: 0.9941 - val_loss: 0.1119 - val_accuracy: 0.9833\n",
            "Epoch 17/20\n",
            "34/34 [==============================] - 3s 76ms/step - loss: 0.0727 - accuracy: 0.9764 - val_loss: 0.0808 - val_accuracy: 0.9667\n",
            "Epoch 18/20\n",
            "34/34 [==============================] - 2s 64ms/step - loss: 0.0797 - accuracy: 0.9735 - val_loss: 0.0639 - val_accuracy: 0.9833\n",
            "Epoch 19/20\n",
            "34/34 [==============================] - 2s 60ms/step - loss: 0.0454 - accuracy: 0.9897 - val_loss: 0.0971 - val_accuracy: 0.9500\n",
            "Epoch 20/20\n",
            "34/34 [==============================] - 2s 60ms/step - loss: 0.0720 - accuracy: 0.9838 - val_loss: 0.2968 - val_accuracy: 0.9167\n"
          ]
        }
      ]
    },
    {
      "cell_type": "code",
      "source": [],
      "metadata": {
        "id": "-FQQG6QOfjLy"
      },
      "execution_count": null,
      "outputs": []
    },
    {
      "cell_type": "code",
      "source": [
        "print(os.getcwd())"
      ],
      "metadata": {
        "colab": {
          "base_uri": "https://localhost:8080/"
        },
        "id": "B8-KRserfi9l",
        "outputId": "ff045bff-56b6-4b26-cdb3-2383ef665914"
      },
      "execution_count": 20,
      "outputs": [
        {
          "output_type": "stream",
          "name": "stdout",
          "text": [
            "/content\n"
          ]
        }
      ]
    },
    {
      "cell_type": "code",
      "source": [],
      "metadata": {
        "id": "pxFbgIo70juD"
      },
      "execution_count": null,
      "outputs": []
    },
    {
      "cell_type": "code",
      "source": [
        "model.save(\"model.h5\")"
      ],
      "metadata": {
        "id": "q2kzUbsL5lZp"
      },
      "execution_count": 21,
      "outputs": []
    },
    {
      "cell_type": "code",
      "source": [],
      "metadata": {
        "id": "Wvhz_YVC5oxP"
      },
      "execution_count": null,
      "outputs": []
    },
    {
      "cell_type": "code",
      "source": [
        "from tensorflow import keras\n",
        "\n",
        "tr_model = keras.models.load_model('/content/model.h5')  # Load your trained model here\n"
      ],
      "metadata": {
        "id": "KxJJztG27N84"
      },
      "execution_count": 22,
      "outputs": []
    },
    {
      "cell_type": "code",
      "source": [],
      "metadata": {
        "id": "MM3vCYqD7sZ-"
      },
      "execution_count": 22,
      "outputs": []
    },
    {
      "cell_type": "code",
      "source": [
        "import os\n",
        "from tensorflow.keras.preprocessing.image import load_img, img_to_array\n",
        "import numpy as np\n",
        "\n",
        "objective_dir = test_dir\n",
        "image_paths = [os.path.join(objective_dir, filename) for filename in os.listdir(objective_dir)]\n",
        "\n",
        "predictions = []\n",
        "\n",
        "for image_path in image_paths:\n",
        "    img = load_img(image_path, target_size=(150, 150))\n",
        "    img_array = img_to_array(img)\n",
        "    img_array = img_array.reshape((1,) + img_array.shape)  # Reshape for prediction\n",
        "    prediction = model.predict(img_array)\n",
        "    predictions.append(prediction)\n",
        "\n",
        "predictions = np.array(predictions)\n"
      ],
      "metadata": {
        "colab": {
          "base_uri": "https://localhost:8080/"
        },
        "id": "-HUnb8JE8eqe",
        "outputId": "ae5e2d89-9f31-4342-fd5e-c46585f323e6"
      },
      "execution_count": 23,
      "outputs": [
        {
          "output_type": "stream",
          "name": "stdout",
          "text": [
            "1/1 [==============================] - 0s 284ms/step\n",
            "1/1 [==============================] - 0s 20ms/step\n",
            "1/1 [==============================] - 0s 19ms/step\n",
            "1/1 [==============================] - 0s 19ms/step\n",
            "1/1 [==============================] - 0s 28ms/step\n",
            "1/1 [==============================] - 0s 28ms/step\n",
            "1/1 [==============================] - 0s 23ms/step\n",
            "1/1 [==============================] - 0s 22ms/step\n",
            "1/1 [==============================] - 0s 19ms/step\n",
            "1/1 [==============================] - 0s 18ms/step\n",
            "1/1 [==============================] - 0s 22ms/step\n",
            "1/1 [==============================] - 0s 22ms/step\n",
            "1/1 [==============================] - 0s 19ms/step\n",
            "1/1 [==============================] - 0s 18ms/step\n",
            "1/1 [==============================] - 0s 19ms/step\n",
            "1/1 [==============================] - 0s 20ms/step\n",
            "1/1 [==============================] - 0s 18ms/step\n",
            "1/1 [==============================] - 0s 31ms/step\n",
            "1/1 [==============================] - 0s 31ms/step\n",
            "1/1 [==============================] - 0s 32ms/step\n",
            "1/1 [==============================] - 0s 22ms/step\n",
            "1/1 [==============================] - 0s 21ms/step\n",
            "1/1 [==============================] - 0s 19ms/step\n",
            "1/1 [==============================] - 0s 19ms/step\n",
            "1/1 [==============================] - 0s 19ms/step\n",
            "1/1 [==============================] - 0s 18ms/step\n",
            "1/1 [==============================] - 0s 20ms/step\n",
            "1/1 [==============================] - 0s 22ms/step\n",
            "1/1 [==============================] - 0s 19ms/step\n",
            "1/1 [==============================] - 0s 21ms/step\n",
            "1/1 [==============================] - 0s 19ms/step\n",
            "1/1 [==============================] - 0s 19ms/step\n",
            "1/1 [==============================] - 0s 28ms/step\n",
            "1/1 [==============================] - 0s 30ms/step\n",
            "1/1 [==============================] - 0s 27ms/step\n",
            "1/1 [==============================] - 0s 27ms/step\n",
            "1/1 [==============================] - 0s 20ms/step\n",
            "1/1 [==============================] - 0s 23ms/step\n",
            "1/1 [==============================] - 0s 19ms/step\n",
            "1/1 [==============================] - 0s 18ms/step\n",
            "1/1 [==============================] - 0s 21ms/step\n",
            "1/1 [==============================] - 0s 19ms/step\n",
            "1/1 [==============================] - 0s 19ms/step\n",
            "1/1 [==============================] - 0s 18ms/step\n",
            "1/1 [==============================] - 0s 24ms/step\n",
            "1/1 [==============================] - 0s 19ms/step\n",
            "1/1 [==============================] - 0s 34ms/step\n",
            "1/1 [==============================] - 0s 32ms/step\n",
            "1/1 [==============================] - 0s 27ms/step\n",
            "1/1 [==============================] - 0s 19ms/step\n",
            "1/1 [==============================] - 0s 20ms/step\n",
            "1/1 [==============================] - 0s 20ms/step\n",
            "1/1 [==============================] - 0s 23ms/step\n",
            "1/1 [==============================] - 0s 19ms/step\n",
            "1/1 [==============================] - 0s 19ms/step\n",
            "1/1 [==============================] - 0s 20ms/step\n",
            "1/1 [==============================] - 0s 19ms/step\n",
            "1/1 [==============================] - 0s 26ms/step\n",
            "1/1 [==============================] - 0s 18ms/step\n",
            "1/1 [==============================] - 0s 20ms/step\n",
            "1/1 [==============================] - 0s 30ms/step\n",
            "1/1 [==============================] - 0s 38ms/step\n",
            "1/1 [==============================] - 0s 27ms/step\n",
            "1/1 [==============================] - 0s 19ms/step\n",
            "1/1 [==============================] - 0s 19ms/step\n",
            "1/1 [==============================] - 0s 20ms/step\n",
            "1/1 [==============================] - 0s 19ms/step\n",
            "1/1 [==============================] - 0s 18ms/step\n",
            "1/1 [==============================] - 0s 19ms/step\n",
            "1/1 [==============================] - 0s 21ms/step\n",
            "1/1 [==============================] - 0s 18ms/step\n",
            "1/1 [==============================] - 0s 18ms/step\n",
            "1/1 [==============================] - 0s 19ms/step\n",
            "1/1 [==============================] - 0s 20ms/step\n",
            "1/1 [==============================] - 0s 25ms/step\n",
            "1/1 [==============================] - 0s 21ms/step\n",
            "1/1 [==============================] - 0s 26ms/step\n",
            "1/1 [==============================] - 0s 30ms/step\n",
            "1/1 [==============================] - 0s 27ms/step\n",
            "1/1 [==============================] - 0s 18ms/step\n",
            "1/1 [==============================] - 0s 18ms/step\n",
            "1/1 [==============================] - 0s 19ms/step\n",
            "1/1 [==============================] - 0s 20ms/step\n",
            "1/1 [==============================] - 0s 18ms/step\n",
            "1/1 [==============================] - 0s 19ms/step\n",
            "1/1 [==============================] - 0s 20ms/step\n",
            "1/1 [==============================] - 0s 19ms/step\n",
            "1/1 [==============================] - 0s 18ms/step\n",
            "1/1 [==============================] - 0s 18ms/step\n"
          ]
        }
      ]
    },
    {
      "cell_type": "code",
      "source": [
        "predictions"
      ],
      "metadata": {
        "colab": {
          "base_uri": "https://localhost:8080/"
        },
        "id": "6Lvdr9OY8hEd",
        "outputId": "0888dc58-e59f-4dbc-ffea-689a4e2fcd6c"
      },
      "execution_count": 24,
      "outputs": [
        {
          "output_type": "execute_result",
          "data": {
            "text/plain": [
              "array([[[1.0000000e+00, 0.0000000e+00, 0.0000000e+00]],\n",
              "\n",
              "       [[1.0000000e+00, 0.0000000e+00, 0.0000000e+00]],\n",
              "\n",
              "       [[1.0000000e+00, 0.0000000e+00, 0.0000000e+00]],\n",
              "\n",
              "       [[1.0000000e+00, 0.0000000e+00, 0.0000000e+00]],\n",
              "\n",
              "       [[0.0000000e+00, 1.0000000e+00, 0.0000000e+00]],\n",
              "\n",
              "       [[0.0000000e+00, 0.0000000e+00, 1.0000000e+00]],\n",
              "\n",
              "       [[1.0000000e+00, 0.0000000e+00, 0.0000000e+00]],\n",
              "\n",
              "       [[1.0000000e+00, 0.0000000e+00, 0.0000000e+00]],\n",
              "\n",
              "       [[1.0000000e+00, 0.0000000e+00, 0.0000000e+00]],\n",
              "\n",
              "       [[0.0000000e+00, 1.0000000e+00, 0.0000000e+00]],\n",
              "\n",
              "       [[1.0000000e+00, 0.0000000e+00, 0.0000000e+00]],\n",
              "\n",
              "       [[1.0000000e+00, 0.0000000e+00, 0.0000000e+00]],\n",
              "\n",
              "       [[0.0000000e+00, 0.0000000e+00, 1.0000000e+00]],\n",
              "\n",
              "       [[1.0000000e+00, 0.0000000e+00, 0.0000000e+00]],\n",
              "\n",
              "       [[1.0000000e+00, 0.0000000e+00, 0.0000000e+00]],\n",
              "\n",
              "       [[1.0000000e+00, 0.0000000e+00, 0.0000000e+00]],\n",
              "\n",
              "       [[1.0000000e+00, 0.0000000e+00, 0.0000000e+00]],\n",
              "\n",
              "       [[1.0000000e+00, 0.0000000e+00, 0.0000000e+00]],\n",
              "\n",
              "       [[0.0000000e+00, 1.0000000e+00, 0.0000000e+00]],\n",
              "\n",
              "       [[1.0000000e+00, 0.0000000e+00, 0.0000000e+00]],\n",
              "\n",
              "       [[1.0000000e+00, 0.0000000e+00, 0.0000000e+00]],\n",
              "\n",
              "       [[0.0000000e+00, 1.0000000e+00, 0.0000000e+00]],\n",
              "\n",
              "       [[0.0000000e+00, 1.0000000e+00, 0.0000000e+00]],\n",
              "\n",
              "       [[0.0000000e+00, 0.0000000e+00, 1.0000000e+00]],\n",
              "\n",
              "       [[0.0000000e+00, 1.0000000e+00, 0.0000000e+00]],\n",
              "\n",
              "       [[1.0000000e+00, 0.0000000e+00, 0.0000000e+00]],\n",
              "\n",
              "       [[1.0000000e+00, 0.0000000e+00, 0.0000000e+00]],\n",
              "\n",
              "       [[1.0000000e+00, 0.0000000e+00, 0.0000000e+00]],\n",
              "\n",
              "       [[1.0000000e+00, 0.0000000e+00, 0.0000000e+00]],\n",
              "\n",
              "       [[0.0000000e+00, 1.0000000e+00, 0.0000000e+00]],\n",
              "\n",
              "       [[0.0000000e+00, 1.0000000e+00, 0.0000000e+00]],\n",
              "\n",
              "       [[0.0000000e+00, 1.0000000e+00, 0.0000000e+00]],\n",
              "\n",
              "       [[1.0000000e+00, 0.0000000e+00, 0.0000000e+00]],\n",
              "\n",
              "       [[1.0000000e+00, 0.0000000e+00, 0.0000000e+00]],\n",
              "\n",
              "       [[1.0000000e+00, 0.0000000e+00, 0.0000000e+00]],\n",
              "\n",
              "       [[1.0000000e+00, 0.0000000e+00, 0.0000000e+00]],\n",
              "\n",
              "       [[1.0000000e+00, 0.0000000e+00, 0.0000000e+00]],\n",
              "\n",
              "       [[1.0000000e+00, 0.0000000e+00, 0.0000000e+00]],\n",
              "\n",
              "       [[1.0000000e+00, 0.0000000e+00, 0.0000000e+00]],\n",
              "\n",
              "       [[1.0000000e+00, 0.0000000e+00, 0.0000000e+00]],\n",
              "\n",
              "       [[0.0000000e+00, 1.0000000e+00, 0.0000000e+00]],\n",
              "\n",
              "       [[0.0000000e+00, 1.0000000e+00, 0.0000000e+00]],\n",
              "\n",
              "       [[0.0000000e+00, 0.0000000e+00, 1.0000000e+00]],\n",
              "\n",
              "       [[1.0000000e+00, 0.0000000e+00, 0.0000000e+00]],\n",
              "\n",
              "       [[0.0000000e+00, 1.0000000e+00, 0.0000000e+00]],\n",
              "\n",
              "       [[0.0000000e+00, 1.0000000e+00, 0.0000000e+00]],\n",
              "\n",
              "       [[0.0000000e+00, 0.0000000e+00, 1.0000000e+00]],\n",
              "\n",
              "       [[1.0000000e+00, 0.0000000e+00, 0.0000000e+00]],\n",
              "\n",
              "       [[0.0000000e+00, 0.0000000e+00, 1.0000000e+00]],\n",
              "\n",
              "       [[0.0000000e+00, 0.0000000e+00, 1.0000000e+00]],\n",
              "\n",
              "       [[1.0000000e+00, 0.0000000e+00, 0.0000000e+00]],\n",
              "\n",
              "       [[0.0000000e+00, 0.0000000e+00, 1.0000000e+00]],\n",
              "\n",
              "       [[0.0000000e+00, 1.0000000e+00, 0.0000000e+00]],\n",
              "\n",
              "       [[1.0000000e+00, 0.0000000e+00, 0.0000000e+00]],\n",
              "\n",
              "       [[0.0000000e+00, 1.0000000e+00, 0.0000000e+00]],\n",
              "\n",
              "       [[0.0000000e+00, 0.0000000e+00, 1.0000000e+00]],\n",
              "\n",
              "       [[0.0000000e+00, 0.0000000e+00, 1.0000000e+00]],\n",
              "\n",
              "       [[1.0000000e+00, 1.5101793e-36, 0.0000000e+00]],\n",
              "\n",
              "       [[0.0000000e+00, 1.0000000e+00, 0.0000000e+00]],\n",
              "\n",
              "       [[1.0000000e+00, 0.0000000e+00, 0.0000000e+00]],\n",
              "\n",
              "       [[0.0000000e+00, 0.0000000e+00, 1.0000000e+00]],\n",
              "\n",
              "       [[0.0000000e+00, 0.0000000e+00, 1.0000000e+00]],\n",
              "\n",
              "       [[0.0000000e+00, 1.0000000e+00, 0.0000000e+00]],\n",
              "\n",
              "       [[0.0000000e+00, 0.0000000e+00, 1.0000000e+00]],\n",
              "\n",
              "       [[0.0000000e+00, 1.0000000e+00, 0.0000000e+00]],\n",
              "\n",
              "       [[1.0000000e+00, 0.0000000e+00, 0.0000000e+00]],\n",
              "\n",
              "       [[0.0000000e+00, 6.3236110e-04, 9.9936765e-01]],\n",
              "\n",
              "       [[1.0000000e+00, 0.0000000e+00, 0.0000000e+00]],\n",
              "\n",
              "       [[0.0000000e+00, 0.0000000e+00, 1.0000000e+00]],\n",
              "\n",
              "       [[0.0000000e+00, 0.0000000e+00, 1.0000000e+00]],\n",
              "\n",
              "       [[0.0000000e+00, 1.0000000e+00, 0.0000000e+00]],\n",
              "\n",
              "       [[0.0000000e+00, 0.0000000e+00, 1.0000000e+00]],\n",
              "\n",
              "       [[0.0000000e+00, 0.0000000e+00, 1.0000000e+00]],\n",
              "\n",
              "       [[1.0000000e+00, 0.0000000e+00, 0.0000000e+00]],\n",
              "\n",
              "       [[0.0000000e+00, 0.0000000e+00, 1.0000000e+00]],\n",
              "\n",
              "       [[0.0000000e+00, 0.0000000e+00, 1.0000000e+00]],\n",
              "\n",
              "       [[0.0000000e+00, 0.0000000e+00, 1.0000000e+00]],\n",
              "\n",
              "       [[0.0000000e+00, 0.0000000e+00, 1.0000000e+00]],\n",
              "\n",
              "       [[0.0000000e+00, 1.0000000e+00, 0.0000000e+00]],\n",
              "\n",
              "       [[0.0000000e+00, 1.0000000e+00, 0.0000000e+00]],\n",
              "\n",
              "       [[0.0000000e+00, 1.0000000e+00, 0.0000000e+00]],\n",
              "\n",
              "       [[0.0000000e+00, 0.0000000e+00, 1.0000000e+00]],\n",
              "\n",
              "       [[0.0000000e+00, 1.0000000e+00, 0.0000000e+00]],\n",
              "\n",
              "       [[0.0000000e+00, 0.0000000e+00, 1.0000000e+00]],\n",
              "\n",
              "       [[0.0000000e+00, 0.0000000e+00, 1.0000000e+00]],\n",
              "\n",
              "       [[0.0000000e+00, 1.0000000e+00, 0.0000000e+00]],\n",
              "\n",
              "       [[0.0000000e+00, 1.0000000e+00, 0.0000000e+00]],\n",
              "\n",
              "       [[0.0000000e+00, 1.0000000e+00, 0.0000000e+00]],\n",
              "\n",
              "       [[0.0000000e+00, 0.0000000e+00, 1.0000000e+00]]], dtype=float32)"
            ]
          },
          "metadata": {},
          "execution_count": 24
        }
      ]
    },
    {
      "cell_type": "code",
      "source": [],
      "metadata": {
        "id": "rnvpNu-C_L2t"
      },
      "execution_count": null,
      "outputs": []
    },
    {
      "cell_type": "code",
      "source": [
        "import matplotlib.pyplot as plt\n",
        "from tensorflow.keras.preprocessing.image import load_img\n",
        "import os\n",
        "\n",
        "objective_dir = test_dir\n",
        "image_filenames = os.listdir(objective_dir)\n",
        "\n",
        "if image_filenames:\n",
        "    first_image_path = os.path.join(objective_dir, image_filenames[45])\n",
        "    img = load_img(first_image_path)\n",
        "\n",
        "    plt.imshow(img)\n",
        "    plt.axis('off')  # Turn off axis numbers and ticks\n",
        "    plt.show()\n",
        "else:\n",
        "    print(\"No images found in the objective directory.\")\n",
        "\n"
      ],
      "metadata": {
        "colab": {
          "base_uri": "https://localhost:8080/",
          "height": 406
        },
        "id": "TSLQoRGP_PhG",
        "outputId": "f14640b3-7e25-476a-d6db-e9e54888cb43"
      },
      "execution_count": 25,
      "outputs": [
        {
          "output_type": "display_data",
          "data": {
            "text/plain": [
              "<Figure size 640x480 with 1 Axes>"
            ],
            "image/png": "[encoded data removed]"
          },
          "metadata": {}
        }
      ]
    },
    {
      "cell_type": "code",
      "source": [],
      "metadata": {
        "id": "IS99x9Uq_UMK"
      },
      "execution_count": null,
      "outputs": []
    },
    {
      "cell_type": "code",
      "source": [
        "from tensorflow.keras.preprocessing.image import img_to_array, load_img\n",
        "import numpy as np\n",
        "\n",
        "# ... (displaying image code)\n",
        "\n",
        "# Prepare the displayed image for prediction\n",
        "img_array = img_to_array(img)\n",
        "img_array = img_array / 255.0  # Rescale pixel values (assuming your training data was rescaled)\n",
        "\n",
        "# Resize the image to match the target size used during training\n",
        "img_array = tf.image.resize(img_array, (150, 150))\n",
        "\n",
        "# Expand dimensions to match the input shape of your model\n",
        "img_array = np.expand_dims(img_array, axis=0)\n",
        "\n",
        "# Make prediction\n",
        "prediction = model.predict(img_array)\n",
        "\n",
        "# Interpret prediction\n",
        "class_index = np.argmax(prediction)\n",
        "class_labels = ['boots', 'sandals', 'slippers']\n",
        "predicted_class = class_labels[class_index]\n",
        "\n",
        "print(\"Predicted Class:\", predicted_class)\n",
        "\n"
      ],
      "metadata": {
        "colab": {
          "base_uri": "https://localhost:8080/"
        },
        "id": "ssNlNOuKBN-m",
        "outputId": "eea772b1-1b33-4134-ca48-76203fe6b02b"
      },
      "execution_count": 26,
      "outputs": [
        {
          "output_type": "stream",
          "name": "stdout",
          "text": [
            "1/1 [==============================] - 0s 18ms/step\n",
            "Predicted Class: sandals\n"
          ]
        }
      ]
    },
    {
      "cell_type": "code",
      "source": [],
      "metadata": {
        "id": "0Ha_EbazRMBu"
      },
      "execution_count": null,
      "outputs": []
    },
    {
      "cell_type": "markdown",
      "source": [
        "**We have successfully predicted 45th index ( which is a sandle ) as sandle itself**"
      ],
      "metadata": {
        "id": "SMdG1p8sRfCF"
      }
    },
    {
      "cell_type": "code",
      "source": [],
      "metadata": {
        "id": "3fn2_26Ie94_"
      },
      "execution_count": null,
      "outputs": []
    },
    {
      "cell_type": "markdown",
      "source": [
        "**Now we are creating a function to print the image and the predicted class.**"
      ],
      "metadata": {
        "id": "XBCCHTSffGa_"
      }
    },
    {
      "cell_type": "code",
      "source": [
        "def show(index):\n",
        "\n",
        "  import matplotlib.pyplot as plt\n",
        "  from tensorflow.keras.preprocessing.image import load_img\n",
        "  import os\n",
        "\n",
        "  objective_dir = test_dir\n",
        "  image_filenames = os.listdir(objective_dir)\n",
        "\n",
        "  try:\n",
        "\n",
        "    if image_filenames:\n",
        "        first_image_path = os.path.join(objective_dir, image_filenames[index])\n",
        "        img = load_img(first_image_path)\n",
        "\n",
        "        plt.imshow(img)\n",
        "        plt.axis('off')  # Turn off axis numbers and ticks\n",
        "        plt.show()\n",
        "    else:\n",
        "        print(\"No images found in the objective directory.\")\n",
        "\n",
        "  except:\n",
        "    return \"Out of range list\""
      ],
      "metadata": {
        "id": "9sNEZN2Ae9sH"
      },
      "execution_count": 31,
      "outputs": []
    },
    {
      "cell_type": "code",
      "source": [],
      "metadata": {
        "id": "luZsThQviCzz"
      },
      "execution_count": null,
      "outputs": []
    },
    {
      "cell_type": "code",
      "source": [
        "show (15)"
      ],
      "metadata": {
        "colab": {
          "base_uri": "https://localhost:8080/",
          "height": 406
        },
        "id": "wpqcFIQsiIKP",
        "outputId": "92d3f204-22fd-44e5-968f-c3b5dbb1e548"
      },
      "execution_count": 34,
      "outputs": [
        {
          "output_type": "display_data",
          "data": {
            "text/plain": [
              "<Figure size 640x480 with 1 Axes>"
            ],
            "image/png": "[encoded data removed]"
          },
          "metadata": {}
        }
      ]
    },
    {
      "cell_type": "code",
      "source": [],
      "metadata": {
        "id": "GpR9fO9XiJ9I"
      },
      "execution_count": null,
      "outputs": []
    },
    {
      "cell_type": "code",
      "source": [
        "def predict(index):\n",
        "\n",
        "  from tensorflow.keras.preprocessing.image import img_to_array, load_img\n",
        "  import numpy as np\n",
        "\n",
        "\n",
        "  objective_dir = test_dir\n",
        "  image_filenames = os.listdir(objective_dir)\n",
        "\n",
        "  if image_filenames:\n",
        "      first_image_path = os.path.join(objective_dir, image_filenames[index])\n",
        "      img = load_img(first_image_path)\n",
        "\n",
        "\n",
        "\n",
        "  # ... (displaying image code)\n",
        "\n",
        "  # Prepare the displayed image for prediction\n",
        "  img_array = img_to_array(img)\n",
        "  img_array = img_array / 255.0  # Rescale pixel values (assuming your training data was rescaled)\n",
        "\n",
        "  # Resize the image to match the target size used during training\n",
        "  img_array = tf.image.resize(img_array, (150, 150))\n",
        "\n",
        "  # Expand dimensions to match the input shape of your model\n",
        "  img_array = np.expand_dims(img_array, axis=0)\n",
        "\n",
        "  # Make prediction\n",
        "  prediction = model.predict(img_array)\n",
        "\n",
        "  # Interpret prediction\n",
        "  class_index = np.argmax(prediction)\n",
        "  class_labels = ['boots', 'sandals', 'slippers']\n",
        "  predicted_class = class_labels[class_index]\n",
        "\n",
        "  return print(\"Predicted Class:\", predicted_class)"
      ],
      "metadata": {
        "id": "leXdpOLiipqi"
      },
      "execution_count": 50,
      "outputs": []
    },
    {
      "cell_type": "code",
      "source": [
        "predict(15)"
      ],
      "metadata": {
        "colab": {
          "base_uri": "https://localhost:8080/"
        },
        "id": "Q3J2qNCbjK_Q",
        "outputId": "f2828c95-1d5a-4540-a818-3e56411b5e96"
      },
      "execution_count": 51,
      "outputs": [
        {
          "output_type": "stream",
          "name": "stdout",
          "text": [
            "1/1 [==============================] - 0s 19ms/step\n",
            "Predicted Class: boots\n"
          ]
        }
      ]
    },
    {
      "cell_type": "code",
      "source": [],
      "metadata": {
        "id": "tVqzTzY-jR0o"
      },
      "execution_count": null,
      "outputs": []
    },
    {
      "cell_type": "code",
      "source": [],
      "metadata": {
        "id": "-efznmLpkqLY"
      },
      "execution_count": null,
      "outputs": []
    },
    {
      "cell_type": "markdown",
      "source": [
        "### Final Output"
      ],
      "metadata": {
        "id": "vxxXOT4jlD7u"
      }
    },
    {
      "cell_type": "code",
      "source": [
        "predict(42)"
      ],
      "metadata": {
        "colab": {
          "base_uri": "https://localhost:8080/"
        },
        "id": "x3rXc9DxlHYo",
        "outputId": "b5245858-39d0-43c2-8997-d370badad668"
      },
      "execution_count": 53,
      "outputs": [
        {
          "output_type": "stream",
          "name": "stdout",
          "text": [
            "1/1 [==============================] - 0s 30ms/step\n",
            "Predicted Class: slippers\n"
          ]
        }
      ]
    },
    {
      "cell_type": "code",
      "source": [
        "show(42)"
      ],
      "metadata": {
        "colab": {
          "base_uri": "https://localhost:8080/",
          "height": 406
        },
        "id": "xddFIZZmlKH6",
        "outputId": "90e6c3b1-0183-463e-e4cb-308717020354"
      },
      "execution_count": 54,
      "outputs": [
        {
          "output_type": "display_data",
          "data": {
            "text/plain": [
              "<Figure size 640x480 with 1 Axes>"
            ],
            "image/png": "[encoded data removed]"
          },
          "metadata": {}
        }
      ]
    },
    {
      "cell_type": "code",
      "source": [],
      "metadata": {
        "id": "YbttXcfGlQPg"
      },
      "execution_count": null,
      "outputs": []
    },
    {
      "cell_type": "code",
      "source": [
        "predict(8)"
      ],
      "metadata": {
        "colab": {
          "base_uri": "https://localhost:8080/"
        },
        "id": "tQgPtG1wldIy",
        "outputId": "f1bc08d2-afb1-4105-ad8f-b5d6962a291e"
      },
      "execution_count": 55,
      "outputs": [
        {
          "output_type": "stream",
          "name": "stdout",
          "text": [
            "1/1 [==============================] - 0s 19ms/step\n",
            "Predicted Class: boots\n"
          ]
        }
      ]
    },
    {
      "cell_type": "code",
      "source": [
        "show(8)"
      ],
      "metadata": {
        "colab": {
          "base_uri": "https://localhost:8080/",
          "height": 406
        },
        "id": "c9ctJpCEleoX",
        "outputId": "f78ff2e4-6c48-46a4-a64e-cb5a31ba4ccf"
      },
      "execution_count": 56,
      "outputs": [
        {
          "output_type": "display_data",
          "data": {
            "text/plain": [
              "<Figure size 640x480 with 1 Axes>"
            ],
            "image/png": "[encoded data removed]"
          },
          "metadata": {}
        }
      ]
    },
    {
      "cell_type": "code",
      "source": [],
      "metadata": {
        "id": "8q_bO7THlgiP"
      },
      "execution_count": null,
      "outputs": []
    },
    {
      "cell_type": "code",
      "source": [],
      "metadata": {
        "id": "ETJXahr4lwBZ"
      },
      "execution_count": null,
      "outputs": []
    },
    {
      "cell_type": "markdown",
      "source": [
        "# **Thankyou**"
      ],
      "metadata": {
        "id": "klKHgRNClnrB"
      }
    },
    {
      "cell_type": "code",
      "source": [],
      "metadata": {
        "id": "TSOEk0udlvEX"
      },
      "execution_count": null,
      "outputs": []
    }
  ]
}